{
 "cells": [
  {
   "cell_type": "markdown",
   "id": "6c1198ff",
   "metadata": {},
   "source": [
    "# INTRODUCCIÓN\n",
    "\n",
    "Antes de empezar, veremos operaciones básicas en python "
   ]
  },
  {
   "cell_type": "markdown",
   "id": "fde6f048",
   "metadata": {},
   "source": [
    "## Invocar una función\n",
    "\n",
    "Necesitamos paréntesis para llamar a la función.\n",
    "En caso de que no pongamos paréntesis, llamamos al objeto."
   ]
  },
  {
   "cell_type": "code",
   "execution_count": 2,
   "id": "c8db07b3",
   "metadata": {},
   "outputs": [
    {
     "name": "stdout",
     "output_type": "stream",
     "text": [
      "Hello world\n"
     ]
    }
   ],
   "source": [
    "print('Hello world')"
   ]
  },
  {
   "cell_type": "markdown",
   "id": "13e6e1f5",
   "metadata": {},
   "source": [
    "## Importar paquetes"
   ]
  },
  {
   "cell_type": "code",
   "execution_count": 3,
   "id": "7d62056c",
   "metadata": {},
   "outputs": [
    {
     "name": "stdout",
     "output_type": "stream",
     "text": [
      "The Zen of Python, by Tim Peters\n",
      "\n",
      "Beautiful is better than ugly.\n",
      "Explicit is better than implicit.\n",
      "Simple is better than complex.\n",
      "Complex is better than complicated.\n",
      "Flat is better than nested.\n",
      "Sparse is better than dense.\n",
      "Readability counts.\n",
      "Special cases aren't special enough to break the rules.\n",
      "Although practicality beats purity.\n",
      "Errors should never pass silently.\n",
      "Unless explicitly silenced.\n",
      "In the face of ambiguity, refuse the temptation to guess.\n",
      "There should be one-- and preferably only one --obvious way to do it.\n",
      "Although that way may not be obvious at first unless you're Dutch.\n",
      "Now is better than never.\n",
      "Although never is often better than *right* now.\n",
      "If the implementation is hard to explain, it's a bad idea.\n",
      "If the implementation is easy to explain, it may be a good idea.\n",
      "Namespaces are one honking great idea -- let's do more of those!\n"
     ]
    }
   ],
   "source": [
    "import this"
   ]
  },
  {
   "cell_type": "markdown",
   "id": "8c2f8ae2",
   "metadata": {},
   "source": [
    "## Creación de variables\n",
    "\n",
    "En python, al crear las variables no se les asigna un tipo como en otros lenguajes.\n",
    "\n",
    "Todos los objetos en python constan de:\n",
    "- id\n",
    "- tipo\n",
    "- valor\n",
    "- recuento de referencias"
   ]
  },
  {
   "cell_type": "code",
   "execution_count": 4,
   "id": "14e7796c",
   "metadata": {},
   "outputs": [],
   "source": [
    "status = 'off' # Variable inicializada a \"off\". Las variables no tienen tipo."
   ]
  },
  {
   "cell_type": "code",
   "execution_count": 5,
   "id": "86958efb",
   "metadata": {},
   "outputs": [],
   "source": [
    "a = 400 # Aquí a es un int."
   ]
  },
  {
   "cell_type": "code",
   "execution_count": 6,
   "id": "a4845132",
   "metadata": {},
   "outputs": [],
   "source": [
    "a = '400' # Aquí a es un string."
   ]
  },
  {
   "cell_type": "code",
   "execution_count": 7,
   "id": "3741597d",
   "metadata": {},
   "outputs": [
    {
     "data": {
      "text/plain": [
       "4497626864"
      ]
     },
     "execution_count": 7,
     "metadata": {},
     "output_type": "execute_result"
    }
   ],
   "source": [
    "id(a)"
   ]
  },
  {
   "cell_type": "code",
   "execution_count": 8,
   "id": "75313816",
   "metadata": {},
   "outputs": [
    {
     "data": {
      "text/plain": [
       "str"
      ]
     },
     "execution_count": 8,
     "metadata": {},
     "output_type": "execute_result"
    }
   ],
   "source": [
    "type(a)"
   ]
  },
  {
   "cell_type": "code",
   "execution_count": 9,
   "id": "7eff1bea",
   "metadata": {},
   "outputs": [
    {
     "data": {
      "text/plain": [
       "'400'"
      ]
     },
     "execution_count": 9,
     "metadata": {},
     "output_type": "execute_result"
    }
   ],
   "source": [
    "a"
   ]
  },
  {
   "cell_type": "code",
   "execution_count": 11,
   "id": "07d37fb1",
   "metadata": {},
   "outputs": [
    {
     "data": {
      "text/plain": [
       "8"
      ]
     },
     "execution_count": 11,
     "metadata": {},
     "output_type": "execute_result"
    }
   ],
   "source": [
    "import sys\n",
    "sys.getrefcount(a) # Recuento de referencias a la variable a."
   ]
  }
 ],
 "metadata": {
  "kernelspec": {
   "display_name": "Python 3 (ipykernel)",
   "language": "python",
   "name": "python3"
  },
  "language_info": {
   "codemirror_mode": {
    "name": "ipython",
    "version": 3
   },
   "file_extension": ".py",
   "mimetype": "text/x-python",
   "name": "python",
   "nbconvert_exporter": "python",
   "pygments_lexer": "ipython3",
   "version": "3.11.3"
  }
 },
 "nbformat": 4,
 "nbformat_minor": 5
}
