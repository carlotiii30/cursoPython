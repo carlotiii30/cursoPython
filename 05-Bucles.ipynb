{
 "cells": [
  {
   "cell_type": "markdown",
   "id": "f7576c0b",
   "metadata": {},
   "source": [
    "# Bucles\n",
    "\n",
    "Tenemos dos opciones: indicar los elementos que va a recorrer uno a uno (1) o indicar un rango de elementos (2)."
   ]
  },
  {
   "cell_type": "markdown",
   "id": "916a50fe",
   "metadata": {},
   "source": [
    "## Números"
   ]
  },
  {
   "cell_type": "code",
   "execution_count": 3,
   "id": "494c1f5d",
   "metadata": {},
   "outputs": [
    {
     "name": "stdout",
     "output_type": "stream",
     "text": [
      "1\n",
      "2\n",
      "3\n",
      "4\n",
      "6\n"
     ]
    }
   ],
   "source": [
    "# 1\n",
    "for n in [1, 2, 3, 4, 6]:\n",
    "    print(n)"
   ]
  },
  {
   "cell_type": "code",
   "execution_count": 6,
   "id": "d69fae78",
   "metadata": {},
   "outputs": [
    {
     "name": "stdout",
     "output_type": "stream",
     "text": [
      "1\n",
      "2\n",
      "3\n",
      "4\n",
      "5\n",
      "6\n"
     ]
    }
   ],
   "source": [
    "# 2\n",
    "for n in range(1, 7): # el ultimo elemento no se imprime.\n",
    "    print(n)"
   ]
  },
  {
   "cell_type": "code",
   "execution_count": 8,
   "id": "de793b9f",
   "metadata": {},
   "outputs": [
    {
     "data": {
      "text/plain": [
       "[0, 1, 2, 3, 4, 5]"
      ]
     },
     "execution_count": 8,
     "metadata": {},
     "output_type": "execute_result"
    }
   ],
   "source": [
    "list(range(6))"
   ]
  },
  {
   "cell_type": "code",
   "execution_count": 9,
   "id": "3fb4060b",
   "metadata": {},
   "outputs": [
    {
     "data": {
      "text/plain": [
       "[2, 3, 4, 5]"
      ]
     },
     "execution_count": 9,
     "metadata": {},
     "output_type": "execute_result"
    }
   ],
   "source": [
    "list(range(2, 6))"
   ]
  },
  {
   "cell_type": "markdown",
   "id": "fd3c88fc",
   "metadata": {},
   "source": [
    "## Cadenas"
   ]
  },
  {
   "cell_type": "code",
   "execution_count": 11,
   "id": "1ca95af6",
   "metadata": {},
   "outputs": [
    {
     "name": "stdout",
     "output_type": "stream",
     "text": [
      "0 gato\n",
      "1 perro\n",
      "2 pajaro\n"
     ]
    }
   ],
   "source": [
    "animales = [\"gato\", \"perro\", \"pajaro\"]\n",
    "\n",
    "for i in range(len(animales)): # len = longitud\n",
    "    print(i, animales[i])"
   ]
  },
  {
   "cell_type": "code",
   "execution_count": 15,
   "id": "20bf0144",
   "metadata": {},
   "outputs": [
    {
     "name": "stdout",
     "output_type": "stream",
     "text": [
      "0 gato\n",
      "1 perro\n",
      "2 pajaro\n"
     ]
    }
   ],
   "source": [
    "for i, valor in enumerate(animales):\n",
    "    print(i, valor)"
   ]
  },
  {
   "cell_type": "code",
   "execution_count": 16,
   "id": "04a8c241",
   "metadata": {},
   "outputs": [
    {
     "data": {
      "text/plain": [
       "2"
      ]
     },
     "execution_count": 16,
     "metadata": {},
     "output_type": "execute_result"
    }
   ],
   "source": [
    "i"
   ]
  },
  {
   "cell_type": "code",
   "execution_count": 17,
   "id": "629b7558",
   "metadata": {},
   "outputs": [
    {
     "data": {
      "text/plain": [
       "'pajaro'"
      ]
     },
     "execution_count": 17,
     "metadata": {},
     "output_type": "execute_result"
    }
   ],
   "source": [
    "valor"
   ]
  },
  {
   "cell_type": "code",
   "execution_count": 18,
   "id": "464957c6",
   "metadata": {},
   "outputs": [
    {
     "name": "stdout",
     "output_type": "stream",
     "text": [
      "0 gato\n"
     ]
    }
   ],
   "source": [
    "for i, valor in enumerate(animales):\n",
    "    if (valor == 'perro'):\n",
    "        break\n",
    "    print (i, valor)"
   ]
  },
  {
   "cell_type": "code",
   "execution_count": 19,
   "id": "f84f9479",
   "metadata": {},
   "outputs": [
    {
     "data": {
      "text/plain": [
       "1"
      ]
     },
     "execution_count": 19,
     "metadata": {},
     "output_type": "execute_result"
    }
   ],
   "source": [
    "i"
   ]
  },
  {
   "cell_type": "code",
   "execution_count": 20,
   "id": "5f6dca64",
   "metadata": {},
   "outputs": [
    {
     "data": {
      "text/plain": [
       "'perro'"
      ]
     },
     "execution_count": 20,
     "metadata": {},
     "output_type": "execute_result"
    }
   ],
   "source": [
    "valor"
   ]
  },
  {
   "cell_type": "markdown",
   "id": "618f404b",
   "metadata": {},
   "source": [
    "## Diccionarios"
   ]
  },
  {
   "cell_type": "code",
   "execution_count": 23,
   "id": "3e736177",
   "metadata": {},
   "outputs": [
    {
     "name": "stdout",
     "output_type": "stream",
     "text": [
      "nombre\n",
      "dinero\n"
     ]
    }
   ],
   "source": [
    "dic = dict(nombre='carlota', dinero=10.5)\n",
    "\n",
    "for key in dic: # iterar sobre las claves\n",
    "    print(key)"
   ]
  },
  {
   "cell_type": "code",
   "execution_count": 24,
   "id": "15c8fe10",
   "metadata": {},
   "outputs": [
    {
     "name": "stdout",
     "output_type": "stream",
     "text": [
      "carlota\n",
      "10.5\n"
     ]
    }
   ],
   "source": [
    "for valor in dic.values():\n",
    "    print(valor)"
   ]
  },
  {
   "cell_type": "code",
   "execution_count": 25,
   "id": "a8128b06",
   "metadata": {},
   "outputs": [
    {
     "name": "stdout",
     "output_type": "stream",
     "text": [
      "nombre carlota\n",
      "dinero 10.5\n"
     ]
    }
   ],
   "source": [
    "for key, valor in dic.items():\n",
    "    print(key, valor)"
   ]
  }
 ],
 "metadata": {
  "kernelspec": {
   "display_name": "Python 3 (ipykernel)",
   "language": "python",
   "name": "python3"
  },
  "language_info": {
   "codemirror_mode": {
    "name": "ipython",
    "version": 3
   },
   "file_extension": ".py",
   "mimetype": "text/x-python",
   "name": "python",
   "nbconvert_exporter": "python",
   "pygments_lexer": "ipython3",
   "version": "3.11.3"
  }
 },
 "nbformat": 4,
 "nbformat_minor": 5
}
