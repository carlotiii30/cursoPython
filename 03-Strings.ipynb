{
 "cells": [
  {
   "cell_type": "markdown",
   "id": "2d855543",
   "metadata": {},
   "source": [
    "# STRINGS\n",
    "\n",
    "En esta sección veremos más en profundidad los strings y sus funciones en python."
   ]
  },
  {
   "cell_type": "code",
   "execution_count": 1,
   "id": "09580988",
   "metadata": {},
   "outputs": [],
   "source": [
    "name = 'carlota' # Creamos una variable"
   ]
  },
  {
   "cell_type": "markdown",
   "id": "d5c1c12a",
   "metadata": {},
   "source": [
    "## Funciones"
   ]
  },
  {
   "cell_type": "markdown",
   "id": "58d0c148",
   "metadata": {},
   "source": [
    "### Mostrar las funciones disponibles"
   ]
  },
  {
   "cell_type": "code",
   "execution_count": 2,
   "id": "a59b29d7",
   "metadata": {},
   "outputs": [
    {
     "name": "stdout",
     "output_type": "stream",
     "text": [
      "['__add__', '__class__', '__contains__', '__delattr__', '__dir__', '__doc__', '__eq__', '__format__', '__ge__', '__getattribute__', '__getitem__', '__getnewargs__', '__getstate__', '__gt__', '__hash__', '__init__', '__init_subclass__', '__iter__', '__le__', '__len__', '__lt__', '__mod__', '__mul__', '__ne__', '__new__', '__reduce__', '__reduce_ex__', '__repr__', '__rmod__', '__rmul__', '__setattr__', '__sizeof__', '__str__', '__subclasshook__', 'capitalize', 'casefold', 'center', 'count', 'encode', 'endswith', 'expandtabs', 'find', 'format', 'format_map', 'index', 'isalnum', 'isalpha', 'isascii', 'isdecimal', 'isdigit', 'isidentifier', 'islower', 'isnumeric', 'isprintable', 'isspace', 'istitle', 'isupper', 'join', 'ljust', 'lower', 'lstrip', 'maketrans', 'partition', 'removeprefix', 'removesuffix', 'replace', 'rfind', 'rindex', 'rjust', 'rpartition', 'rsplit', 'rstrip', 'split', 'splitlines', 'startswith', 'strip', 'swapcase', 'title', 'translate', 'upper', 'zfill']\n"
     ]
    }
   ],
   "source": [
    "print(dir(name)) # Mostramos las funciones"
   ]
  },
  {
   "cell_type": "markdown",
   "id": "08650000",
   "metadata": {},
   "source": [
    "### Función upper\n",
    "\n",
    "Pone en mayúscula todas las letras de la variable."
   ]
  },
  {
   "cell_type": "code",
   "execution_count": 3,
   "id": "3b43e678",
   "metadata": {},
   "outputs": [
    {
     "data": {
      "text/plain": [
       "'CARLOTA'"
      ]
     },
     "execution_count": 3,
     "metadata": {},
     "output_type": "execute_result"
    }
   ],
   "source": [
    "name.upper()"
   ]
  },
  {
   "cell_type": "code",
   "execution_count": 5,
   "id": "f1529534",
   "metadata": {},
   "outputs": [
    {
     "data": {
      "text/plain": [
       "'carlota'"
      ]
     },
     "execution_count": 5,
     "metadata": {},
     "output_type": "execute_result"
    }
   ],
   "source": [
    "name # No hemos guardado el resultado de la función, por tanto, aunque se ejecute, no se registrará el resultado "
   ]
  },
  {
   "cell_type": "markdown",
   "id": "afde3294",
   "metadata": {},
   "source": [
    "### Función title\n",
    "\n",
    "Pone en mayúscula la primera letra de la variable."
   ]
  },
  {
   "cell_type": "code",
   "execution_count": 6,
   "id": "5c72afa5",
   "metadata": {},
   "outputs": [
    {
     "data": {
      "text/plain": [
       "'Carlota'"
      ]
     },
     "execution_count": 6,
     "metadata": {},
     "output_type": "execute_result"
    }
   ],
   "source": [
    "name.title()"
   ]
  },
  {
   "cell_type": "markdown",
   "id": "c305802f",
   "metadata": {},
   "source": [
    "### Función find\n",
    "\n",
    "Busca dentro del string la cadena que le pasamos. Devuelve la posición de la primera letra.\n",
    "\n",
    "En caso de no encontrarla, devuelve -1."
   ]
  },
  {
   "cell_type": "code",
   "execution_count": 12,
   "id": "78c65ed1",
   "metadata": {},
   "outputs": [
    {
     "data": {
      "text/plain": [
       "4"
      ]
     },
     "execution_count": 12,
     "metadata": {},
     "output_type": "execute_result"
    }
   ],
   "source": [
    "name.find('ota')"
   ]
  },
  {
   "cell_type": "code",
   "execution_count": 13,
   "id": "46e978be",
   "metadata": {},
   "outputs": [
    {
     "data": {
      "text/plain": [
       "-1"
      ]
     },
     "execution_count": 13,
     "metadata": {},
     "output_type": "execute_result"
    }
   ],
   "source": [
    "name.find('oto')"
   ]
  },
  {
   "cell_type": "markdown",
   "id": "b278936c",
   "metadata": {},
   "source": [
    "## Posiciones del string\n",
    "\n",
    "El string se numera desde el 0 hasta n-1, siendo n el número de caracteres del string.\n",
    "\n",
    "Se puede acceder a las posiciones también desde el final, desde -1 (última posición del string) hasta -n.\n",
    "\n",
    "Si se intenta acceder a una posición que no pertenece al string, dará un error."
   ]
  },
  {
   "cell_type": "code",
   "execution_count": 14,
   "id": "093fe9e8",
   "metadata": {},
   "outputs": [
    {
     "data": {
      "text/plain": [
       "'c'"
      ]
     },
     "execution_count": 14,
     "metadata": {},
     "output_type": "execute_result"
    }
   ],
   "source": [
    "name[0]"
   ]
  },
  {
   "cell_type": "code",
   "execution_count": 15,
   "id": "eb33a0f3",
   "metadata": {},
   "outputs": [
    {
     "data": {
      "text/plain": [
       "'a'"
      ]
     },
     "execution_count": 15,
     "metadata": {},
     "output_type": "execute_result"
    }
   ],
   "source": [
    "name[-1]"
   ]
  },
  {
   "cell_type": "code",
   "execution_count": 16,
   "id": "ba60e810",
   "metadata": {},
   "outputs": [
    {
     "ename": "IndexError",
     "evalue": "string index out of range",
     "output_type": "error",
     "traceback": [
      "\u001b[0;31m---------------------------------------------------------------------------\u001b[0m",
      "\u001b[0;31mIndexError\u001b[0m                                Traceback (most recent call last)",
      "Cell \u001b[0;32mIn[16], line 1\u001b[0m\n\u001b[0;32m----> 1\u001b[0m \u001b[43mname\u001b[49m\u001b[43m[\u001b[49m\u001b[38;5;241;43m8\u001b[39;49m\u001b[43m]\u001b[49m\n",
      "\u001b[0;31mIndexError\u001b[0m: string index out of range"
     ]
    }
   ],
   "source": [
    "name[8]"
   ]
  },
  {
   "cell_type": "code",
   "execution_count": 20,
   "id": "db96310c",
   "metadata": {},
   "outputs": [
    {
     "data": {
      "text/plain": [
       "'c'"
      ]
     },
     "execution_count": 20,
     "metadata": {},
     "output_type": "execute_result"
    }
   ],
   "source": [
    "name[-7]"
   ]
  },
  {
   "cell_type": "code",
   "execution_count": 21,
   "id": "a6340245",
   "metadata": {},
   "outputs": [
    {
     "data": {
      "text/plain": [
       "'a'"
      ]
     },
     "execution_count": 21,
     "metadata": {},
     "output_type": "execute_result"
    }
   ],
   "source": [
    "name[len(name) - 1]"
   ]
  },
  {
   "cell_type": "markdown",
   "id": "f23123a3",
   "metadata": {},
   "source": [
    "# UNICODE\n",
    "\n",
    "El objetivo es proporcionar un sistema unificado y consistente para representar y procesar caracteres de diferentes idiomas y culturas. "
   ]
  },
  {
   "cell_type": "code",
   "execution_count": 22,
   "id": "343aec1c",
   "metadata": {},
   "outputs": [
    {
     "data": {
      "text/plain": [
       "'hola qué tal niña'"
      ]
     },
     "execution_count": 22,
     "metadata": {},
     "output_type": "execute_result"
    }
   ],
   "source": [
    "saludo = 'hola qué tal niña'\n",
    "saludo"
   ]
  },
  {
   "cell_type": "code",
   "execution_count": 25,
   "id": "bf792c3e",
   "metadata": {},
   "outputs": [
    {
     "data": {
      "text/plain": [
       "b'hola qu\\xc3\\xa9 tal ni\\xc3\\xb1a'"
      ]
     },
     "execution_count": 25,
     "metadata": {},
     "output_type": "execute_result"
    }
   ],
   "source": [
    "codificado = saludo.encode('utf8') # Codificar\n",
    "codificado"
   ]
  },
  {
   "cell_type": "code",
   "execution_count": 26,
   "id": "f7e49f37",
   "metadata": {},
   "outputs": [
    {
     "data": {
      "text/plain": [
       "'hola qué tal niña'"
      ]
     },
     "execution_count": 26,
     "metadata": {},
     "output_type": "execute_result"
    }
   ],
   "source": [
    "codificado.decode('utf8') # Descodificar"
   ]
  },
  {
   "cell_type": "markdown",
   "id": "542a1354",
   "metadata": {},
   "source": [
    "## Cadenas formateadas\n",
    "\n",
    "Se utilizan para crear texto dinámico."
   ]
  },
  {
   "cell_type": "code",
   "execution_count": 31,
   "id": "755f2d58",
   "metadata": {},
   "outputs": [
    {
     "name": "stdout",
     "output_type": "stream",
     "text": [
      "Hola Carlota, \n",
      "Gracias por venir.\n",
      "Estaremos aquí 1.05 horas. \n"
     ]
    }
   ],
   "source": [
    "min = 63\n",
    "parrafo = f\"\"\"Hola {name.title()}, \n",
    "Gracias por venir.\n",
    "Estaremos aquí {min/60:.2f} horas. \"\"\"\n",
    "print (parrafo)"
   ]
  },
  {
   "cell_type": "markdown",
   "id": "bb72d362",
   "metadata": {},
   "source": [
    "## Formateo utilizando \":\""
   ]
  },
  {
   "cell_type": "code",
   "execution_count": 33,
   "id": "dffc42e9",
   "metadata": {},
   "outputs": [
    {
     "data": {
      "text/plain": [
       "'Name: **carlota***'"
      ]
     },
     "execution_count": 33,
     "metadata": {},
     "output_type": "execute_result"
    }
   ],
   "source": [
    "f\"Name: {name:*^12}\" # ^ Centrar el texto en 12 caracteres. El texto será rellenado con *"
   ]
  },
  {
   "cell_type": "code",
   "execution_count": 36,
   "id": "5e4bf4bb",
   "metadata": {},
   "outputs": [
    {
     "data": {
      "text/plain": [
       "'Percent:      44.0%'"
      ]
     },
     "execution_count": 36,
     "metadata": {},
     "output_type": "execute_result"
    }
   ],
   "source": [
    "porc = 44/100\n",
    "f\"Percent: {porc:=10.1%}\" # 2 enteros y 1 decimal"
   ]
  },
  {
   "cell_type": "code",
   "execution_count": 37,
   "id": "bb16f0b2",
   "metadata": {},
   "outputs": [
    {
     "data": {
      "text/plain": [
       "'Binary: 1100'"
      ]
     },
     "execution_count": 37,
     "metadata": {},
     "output_type": "execute_result"
    }
   ],
   "source": [
    "f\"Binary: {12:b}\" # Binario."
   ]
  },
  {
   "cell_type": "code",
   "execution_count": 38,
   "id": "f43ce3be",
   "metadata": {},
   "outputs": [
    {
     "data": {
      "text/plain": [
       "'Hex: c'"
      ]
     },
     "execution_count": 38,
     "metadata": {},
     "output_type": "execute_result"
    }
   ],
   "source": [
    "f\"Hex: {12:x}\" # Hexadecimal."
   ]
  }
 ],
 "metadata": {
  "kernelspec": {
   "display_name": "Python 3 (ipykernel)",
   "language": "python",
   "name": "python3"
  },
  "language_info": {
   "codemirror_mode": {
    "name": "ipython",
    "version": 3
   },
   "file_extension": ".py",
   "mimetype": "text/x-python",
   "name": "python",
   "nbconvert_exporter": "python",
   "pygments_lexer": "ipython3",
   "version": "3.11.3"
  }
 },
 "nbformat": 4,
 "nbformat_minor": 5
}
