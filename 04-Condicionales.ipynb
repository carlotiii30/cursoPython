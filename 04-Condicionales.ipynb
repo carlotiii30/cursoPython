{
 "cells": [
  {
   "cell_type": "markdown",
   "id": "4abd850f",
   "metadata": {},
   "source": [
    "# CONDICIONALES\n",
    "\n",
    "No se utilizan llaves. Se usan \":\" y la tabulación marca la estructura."
   ]
  },
  {
   "cell_type": "markdown",
   "id": "4e212512",
   "metadata": {},
   "source": [
    "## Estructura if / else"
   ]
  },
  {
   "cell_type": "markdown",
   "id": "c25e2649",
   "metadata": {},
   "source": [
    "### Ejemplo\n",
    "\n",
    "Como la variable grado es 82, no entra en el primer if (no es mayor que 90), por tanto, pasa al siguiente bloque y entra en él (es mayor que 80). Como entra en este segundo bloque, el resto ya no los ejecuta."
   ]
  },
  {
   "cell_type": "code",
   "execution_count": 2,
   "id": "98571aa9",
   "metadata": {},
   "outputs": [
    {
     "name": "stdout",
     "output_type": "stream",
     "text": [
      "B\n"
     ]
    }
   ],
   "source": [
    "grado = 82 \n",
    "\n",
    "if grado > 90:\n",
    "    print(\"A\")\n",
    "\n",
    "elif grado > 80:\n",
    "    print(\"B\")\n",
    "\n",
    "elif grado > 70:\n",
    "    print(\"C\")\n",
    "    \n",
    "else:\n",
    "    print(\"D\")"
   ]
  },
  {
   "cell_type": "markdown",
   "id": "d486eccb",
   "metadata": {},
   "source": [
    "### Otro ejemplo\n",
    "\n",
    "En este otro ejemplo, como en vez de usar la estructura if else, solo usamos ifs, imprime todas las letras de las condiciones que cumple (mayor que 80 y que 70)."
   ]
  },
  {
   "cell_type": "code",
   "execution_count": 3,
   "id": "5c51403d",
   "metadata": {},
   "outputs": [
    {
     "name": "stdout",
     "output_type": "stream",
     "text": [
      "B\n",
      "C\n"
     ]
    }
   ],
   "source": [
    "grado = 82 \n",
    "\n",
    "if grado > 90:\n",
    "    print(\"A\")\n",
    "\n",
    "if grado > 80:\n",
    "    print(\"B\")\n",
    "\n",
    "if grado > 70:\n",
    "    print(\"C\")\n",
    "    \n",
    "else:\n",
    "    print(\"D\")"
   ]
  },
  {
   "cell_type": "markdown",
   "id": "3d67a2d2",
   "metadata": {},
   "source": [
    "## Comparaciones\n",
    "\n",
    "Devuelve true / false"
   ]
  },
  {
   "cell_type": "code",
   "execution_count": 4,
   "id": "fcac1e54",
   "metadata": {},
   "outputs": [
    {
     "data": {
      "text/plain": [
       "False"
      ]
     },
     "execution_count": 4,
     "metadata": {},
     "output_type": "execute_result"
    }
   ],
   "source": [
    "5 > 9"
   ]
  },
  {
   "cell_type": "code",
   "execution_count": 5,
   "id": "3e2378a7",
   "metadata": {},
   "outputs": [
    {
     "data": {
      "text/plain": [
       "True"
      ]
     },
     "execution_count": 5,
     "metadata": {},
     "output_type": "execute_result"
    }
   ],
   "source": [
    "'carlota' != 'salma'"
   ]
  },
  {
   "cell_type": "code",
   "execution_count": 6,
   "id": "c4a95e48",
   "metadata": {},
   "outputs": [
    {
     "data": {
      "text/plain": [
       "True"
      ]
     },
     "execution_count": 6,
     "metadata": {},
     "output_type": "execute_result"
    }
   ],
   "source": [
    "isinstance('carlota', str)"
   ]
  },
  {
   "cell_type": "code",
   "execution_count": 7,
   "id": "6cf0e676",
   "metadata": {},
   "outputs": [
    {
     "data": {
      "text/plain": [
       "True"
      ]
     },
     "execution_count": 7,
     "metadata": {},
     "output_type": "execute_result"
    }
   ],
   "source": [
    "x = 5\n",
    "\n",
    "x < -4 or x > 4 # Se si se cumple alguna de las dos."
   ]
  },
  {
   "cell_type": "code",
   "execution_count": 8,
   "id": "60288ca9",
   "metadata": {},
   "outputs": [
    {
     "data": {
      "text/plain": [
       "False"
      ]
     },
     "execution_count": 8,
     "metadata": {},
     "output_type": "execute_result"
    }
   ],
   "source": [
    "x < -4 and x > 4 # Solo si se cumplen las dos."
   ]
  }
 ],
 "metadata": {
  "kernelspec": {
   "display_name": "Python 3 (ipykernel)",
   "language": "python",
   "name": "python3"
  },
  "language_info": {
   "codemirror_mode": {
    "name": "ipython",
    "version": 3
   },
   "file_extension": ".py",
   "mimetype": "text/x-python",
   "name": "python",
   "nbconvert_exporter": "python",
   "pygments_lexer": "ipython3",
   "version": "3.11.3"
  }
 },
 "nbformat": 4,
 "nbformat_minor": 5
}
