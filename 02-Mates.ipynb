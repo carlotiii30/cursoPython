{
 "cells": [
  {
   "cell_type": "markdown",
   "id": "e8c903e4",
   "metadata": {},
   "source": [
    "# OPERACIONES MATEMÁTICAS\n",
    "\n",
    "A continuación, veremos las posibles operaciones matemáticas que podemos realizar con python."
   ]
  },
  {
   "cell_type": "markdown",
   "id": "165e306b",
   "metadata": {},
   "source": [
    "## Básicas"
   ]
  },
  {
   "cell_type": "markdown",
   "id": "3b25d496",
   "metadata": {},
   "source": [
    "### Suma"
   ]
  },
  {
   "cell_type": "code",
   "execution_count": 1,
   "id": "cb6c6ad4",
   "metadata": {},
   "outputs": [
    {
     "data": {
      "text/plain": [
       "52"
      ]
     },
     "execution_count": 1,
     "metadata": {},
     "output_type": "execute_result"
    }
   ],
   "source": [
    "42 + 10"
   ]
  },
  {
   "cell_type": "markdown",
   "id": "78f5b4ba",
   "metadata": {},
   "source": [
    "### Resta"
   ]
  },
  {
   "cell_type": "code",
   "execution_count": 2,
   "id": "4bded724",
   "metadata": {},
   "outputs": [
    {
     "data": {
      "text/plain": [
       "32"
      ]
     },
     "execution_count": 2,
     "metadata": {},
     "output_type": "execute_result"
    }
   ],
   "source": [
    "42 - 10"
   ]
  },
  {
   "cell_type": "markdown",
   "id": "b8cd95a5",
   "metadata": {},
   "source": [
    "### Multiplicación"
   ]
  },
  {
   "cell_type": "code",
   "execution_count": 4,
   "id": "1ee6f90d",
   "metadata": {},
   "outputs": [
    {
     "data": {
      "text/plain": [
       "20"
      ]
     },
     "execution_count": 4,
     "metadata": {},
     "output_type": "execute_result"
    }
   ],
   "source": [
    "2 * 10"
   ]
  },
  {
   "cell_type": "markdown",
   "id": "4f64b6eb",
   "metadata": {},
   "source": [
    "### División"
   ]
  },
  {
   "cell_type": "code",
   "execution_count": 5,
   "id": "df3323a3",
   "metadata": {},
   "outputs": [
    {
     "data": {
      "text/plain": [
       "5.0"
      ]
     },
     "execution_count": 5,
     "metadata": {},
     "output_type": "execute_result"
    }
   ],
   "source": [
    "10 / 2"
   ]
  },
  {
   "cell_type": "markdown",
   "id": "3797ed3c",
   "metadata": {},
   "source": [
    "### Módulo"
   ]
  },
  {
   "cell_type": "code",
   "execution_count": 8,
   "id": "0383f361",
   "metadata": {},
   "outputs": [
    {
     "data": {
      "text/plain": [
       "0"
      ]
     },
     "execution_count": 8,
     "metadata": {},
     "output_type": "execute_result"
    }
   ],
   "source": [
    "10 % 5"
   ]
  },
  {
   "cell_type": "markdown",
   "id": "4bd7dfc2",
   "metadata": {},
   "source": [
    "### Potencia"
   ]
  },
  {
   "cell_type": "code",
   "execution_count": 9,
   "id": "602ffe46",
   "metadata": {},
   "outputs": [
    {
     "data": {
      "text/plain": [
       "4"
      ]
     },
     "execution_count": 9,
     "metadata": {},
     "output_type": "execute_result"
    }
   ],
   "source": [
    "2 ** 2"
   ]
  },
  {
   "cell_type": "markdown",
   "id": "c7681dbf",
   "metadata": {},
   "source": [
    "## Complejas\n",
    "\n",
    "Podemos hacer operaciones entre números de diferentes tipos: int, float y complejos."
   ]
  },
  {
   "cell_type": "markdown",
   "id": "36e688c1",
   "metadata": {},
   "source": [
    "### int y float"
   ]
  },
  {
   "cell_type": "code",
   "execution_count": 10,
   "id": "668a76fa",
   "metadata": {},
   "outputs": [
    {
     "data": {
      "text/plain": [
       "7.5"
      ]
     },
     "execution_count": 10,
     "metadata": {},
     "output_type": "execute_result"
    }
   ],
   "source": [
    "3 + 4.5"
   ]
  },
  {
   "cell_type": "markdown",
   "id": "e92614b8",
   "metadata": {},
   "source": [
    "### int y complejos"
   ]
  },
  {
   "cell_type": "code",
   "execution_count": 11,
   "id": "eab0f61e",
   "metadata": {},
   "outputs": [
    {
     "data": {
      "text/plain": [
       "(-1-4j)"
      ]
     },
     "execution_count": 11,
     "metadata": {},
     "output_type": "execute_result"
    }
   ],
   "source": [
    "1 - (2+4j)"
   ]
  },
  {
   "cell_type": "markdown",
   "id": "0d9e512d",
   "metadata": {},
   "source": [
    "### float y complejos"
   ]
  },
  {
   "cell_type": "code",
   "execution_count": 12,
   "id": "d349471c",
   "metadata": {},
   "outputs": [
    {
     "data": {
      "text/plain": [
       "(5.5+1j)"
      ]
     },
     "execution_count": 12,
     "metadata": {},
     "output_type": "execute_result"
    }
   ],
   "source": [
    "4.5 + (1+1j)"
   ]
  },
  {
   "cell_type": "markdown",
   "id": "68c9bc9f",
   "metadata": {},
   "source": [
    "## Funciones\n",
    "\n",
    "Podemos utilizar diferentes funciones con los números, ya que, en realidad, son objetos.\n",
    "\n",
    "Para utilizar métodos debemos meter entre paréntesis el número, para que así se comporte como un objeto."
   ]
  },
  {
   "cell_type": "markdown",
   "id": "830407f2",
   "metadata": {},
   "source": [
    "### Mostrar las diferentes funciones"
   ]
  },
  {
   "cell_type": "code",
   "execution_count": 14,
   "id": "d61deea1",
   "metadata": {},
   "outputs": [
    {
     "name": "stdout",
     "output_type": "stream",
     "text": [
      "['__abs__', '__add__', '__and__', '__bool__', '__ceil__', '__class__', '__delattr__', '__dir__', '__divmod__', '__doc__', '__eq__', '__float__', '__floor__', '__floordiv__', '__format__', '__ge__', '__getattribute__', '__getnewargs__', '__getstate__', '__gt__', '__hash__', '__index__', '__init__', '__init_subclass__', '__int__', '__invert__', '__le__', '__lshift__', '__lt__', '__mod__', '__mul__', '__ne__', '__neg__', '__new__', '__or__', '__pos__', '__pow__', '__radd__', '__rand__', '__rdivmod__', '__reduce__', '__reduce_ex__', '__repr__', '__rfloordiv__', '__rlshift__', '__rmod__', '__rmul__', '__ror__', '__round__', '__rpow__', '__rrshift__', '__rshift__', '__rsub__', '__rtruediv__', '__rxor__', '__setattr__', '__sizeof__', '__str__', '__sub__', '__subclasshook__', '__truediv__', '__trunc__', '__xor__', 'as_integer_ratio', 'bit_count', 'bit_length', 'conjugate', 'denominator', 'from_bytes', 'imag', 'numerator', 'real', 'to_bytes']\n"
     ]
    }
   ],
   "source": [
    "print(dir(42)) # Podriamos poner cualquier número"
   ]
  },
  {
   "cell_type": "markdown",
   "id": "97dab4cd",
   "metadata": {},
   "source": [
    "### bit_length\n",
    "\n",
    "Cantidad mínima de bits necesarios para representar un número en binario."
   ]
  },
  {
   "cell_type": "code",
   "execution_count": 17,
   "id": "fd7f0866",
   "metadata": {},
   "outputs": [
    {
     "ename": "SyntaxError",
     "evalue": "invalid decimal literal (2848017890.py, line 1)",
     "output_type": "error",
     "traceback": [
      "\u001b[0;36m  Cell \u001b[0;32mIn[17], line 1\u001b[0;36m\u001b[0m\n\u001b[0;31m    42.bit_length()\u001b[0m\n\u001b[0m      ^\u001b[0m\n\u001b[0;31mSyntaxError\u001b[0m\u001b[0;31m:\u001b[0m invalid decimal literal\n"
     ]
    }
   ],
   "source": [
    "42.bit_length()"
   ]
  },
  {
   "cell_type": "code",
   "execution_count": 18,
   "id": "f90316c3",
   "metadata": {},
   "outputs": [
    {
     "data": {
      "text/plain": [
       "6"
      ]
     },
     "execution_count": 18,
     "metadata": {},
     "output_type": "execute_result"
    }
   ],
   "source": [
    "(42).bit_length() # 42 = 101010"
   ]
  },
  {
   "cell_type": "markdown",
   "id": "3bd4160f",
   "metadata": {},
   "source": [
    "### Suma"
   ]
  },
  {
   "cell_type": "code",
   "execution_count": 19,
   "id": "534edb06",
   "metadata": {},
   "outputs": [
    {
     "data": {
      "text/plain": [
       "40"
      ]
     },
     "execution_count": 19,
     "metadata": {},
     "output_type": "execute_result"
    }
   ],
   "source": [
    "(10).__add__(30)"
   ]
  }
 ],
 "metadata": {
  "kernelspec": {
   "display_name": "Python 3 (ipykernel)",
   "language": "python",
   "name": "python3"
  },
  "language_info": {
   "codemirror_mode": {
    "name": "ipython",
    "version": 3
   },
   "file_extension": ".py",
   "mimetype": "text/x-python",
   "name": "python",
   "nbconvert_exporter": "python",
   "pygments_lexer": "ipython3",
   "version": "3.11.3"
  }
 },
 "nbformat": 4,
 "nbformat_minor": 5
}
