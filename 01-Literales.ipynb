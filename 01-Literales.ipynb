{
 "cells": [
  {
   "cell_type": "markdown",
   "id": "9cf1f802",
   "metadata": {},
   "source": [
    "# LITERALES\n",
    "\n",
    "En esta sección se explica la diferencia entre literales y constructores, mediante ejemplos, y las diferentes estructuras de elementos que encontramos en Python."
   ]
  },
  {
   "cell_type": "markdown",
   "id": "04eefc62",
   "metadata": {},
   "source": [
    "## Literal vs constructor"
   ]
  },
  {
   "cell_type": "code",
   "execution_count": 21,
   "id": "e35e532e",
   "metadata": {},
   "outputs": [],
   "source": [
    "name = 'nombre' # Literal -> representación directa.\n",
    "age_string = str(40) # Utilizando un constructor."
   ]
  },
  {
   "cell_type": "code",
   "execution_count": 5,
   "id": "d6559a51",
   "metadata": {},
   "outputs": [],
   "source": [
    "# Literales\n",
    "age = 40 # int\n",
    "cost = 5.5 # float\n",
    "loc = 1+0j # complejo "
   ]
  },
  {
   "cell_type": "markdown",
   "id": "cec5865b",
   "metadata": {},
   "source": [
    "## Estructuras"
   ]
  },
  {
   "cell_type": "markdown",
   "id": "fb6a24bb",
   "metadata": {},
   "source": [
    "### Lista\n",
    "\n",
    "Lista de elementos del mismo tipo."
   ]
  },
  {
   "cell_type": "code",
   "execution_count": 22,
   "id": "b4ebeae7",
   "metadata": {},
   "outputs": [],
   "source": [
    "names = [name, 'carlota', 'salma'] # literal\n",
    "vocales = list('aeiou') # constructor"
   ]
  },
  {
   "cell_type": "code",
   "execution_count": 8,
   "id": "ace55b90",
   "metadata": {},
   "outputs": [
    {
     "data": {
      "text/plain": [
       "['a', 'e', 'i', 'o', 'u']"
      ]
     },
     "execution_count": 8,
     "metadata": {},
     "output_type": "execute_result"
    }
   ],
   "source": [
    "vocales"
   ]
  },
  {
   "cell_type": "code",
   "execution_count": 9,
   "id": "f848d1e7",
   "metadata": {},
   "outputs": [
    {
     "data": {
      "text/plain": [
       "['nombre', 'carlota', 'salma']"
      ]
     },
     "execution_count": 9,
     "metadata": {},
     "output_type": "execute_result"
    }
   ],
   "source": [
    "names"
   ]
  },
  {
   "cell_type": "code",
   "execution_count": 10,
   "id": "c9cee0f0",
   "metadata": {},
   "outputs": [
    {
     "data": {
      "text/plain": [
       "['aeiou']"
      ]
     },
     "execution_count": 10,
     "metadata": {},
     "output_type": "execute_result"
    }
   ],
   "source": [
    "['aeiou']"
   ]
  },
  {
   "cell_type": "markdown",
   "id": "625fae46",
   "metadata": {},
   "source": [
    "### Tupla\n",
    "\n",
    "Contienen información de varios tipos."
   ]
  },
  {
   "cell_type": "code",
   "execution_count": 11,
   "id": "53c80721",
   "metadata": {},
   "outputs": [],
   "source": [
    "persona = ('carlota', 20, '670418621', 'La Linea') # literal\n",
    "persona2 = tuple(['salma', 21, '611008877', 'Marruecos']) # constructor"
   ]
  },
  {
   "cell_type": "code",
   "execution_count": 12,
   "id": "b79878e9",
   "metadata": {},
   "outputs": [
    {
     "data": {
      "text/plain": [
       "('carlota', 20, '670418621', 'La Linea')"
      ]
     },
     "execution_count": 12,
     "metadata": {},
     "output_type": "execute_result"
    }
   ],
   "source": [
    "persona"
   ]
  },
  {
   "cell_type": "code",
   "execution_count": 13,
   "id": "4dd19977",
   "metadata": {},
   "outputs": [
    {
     "data": {
      "text/plain": [
       "('salma', 21, '611008877', 'Marruecos')"
      ]
     },
     "execution_count": 13,
     "metadata": {},
     "output_type": "execute_result"
    }
   ],
   "source": [
    "persona2"
   ]
  },
  {
   "cell_type": "markdown",
   "id": "c3de7c4d",
   "metadata": {},
   "source": [
    "### Diccionario\n",
    "\n",
    "Contienen dos elementos: una clave y un valor asociado a esta."
   ]
  },
  {
   "cell_type": "code",
   "execution_count": 15,
   "id": "d445786e",
   "metadata": {},
   "outputs": [],
   "source": [
    "tipos = {'name': 'string', 'age': 'int'} # literal\n",
    "ages = dict(zip(['carlota', 'salma'], [20, 21])) # zip combina los nombres y las edades.\n",
    "tipos2 = dict(name='string', age='int') # constructor"
   ]
  },
  {
   "cell_type": "code",
   "execution_count": 16,
   "id": "56834b27",
   "metadata": {},
   "outputs": [
    {
     "data": {
      "text/plain": [
       "{'carlota': 20, 'salma': 21}"
      ]
     },
     "execution_count": 16,
     "metadata": {},
     "output_type": "execute_result"
    }
   ],
   "source": [
    "ages"
   ]
  },
  {
   "cell_type": "markdown",
   "id": "b35c0270",
   "metadata": {},
   "source": [
    "### Set\n",
    "\n",
    "Conjunto de elementos del mismo tipo. Al crear el set con el constructor, separa los diferentes elementos."
   ]
  },
  {
   "cell_type": "code",
   "execution_count": 23,
   "id": "146713ad",
   "metadata": {},
   "outputs": [
    {
     "data": {
      "text/plain": [
       "{'1', '2', '3', '4', '5', '6', '7', '8', '9'}"
      ]
     },
     "execution_count": 23,
     "metadata": {},
     "output_type": "execute_result"
    }
   ],
   "source": [
    "digitos = {0, 1, 2, 3, 4, 5, 6, 7, 8, 9} # literal\n",
    "numeros = set('123456789') # constructor\n",
    "numeros"
   ]
  },
  {
   "cell_type": "code",
   "execution_count": 24,
   "id": "2d2dde13",
   "metadata": {},
   "outputs": [
    {
     "data": {
      "text/plain": [
       "{' ', 'a', 'c', 'e', 'l', 'm', 'o', 'r', 't'}"
      ]
     },
     "execution_count": 24,
     "metadata": {},
     "output_type": "execute_result"
    }
   ],
   "source": [
    "caracteres = set('me llamo carlota')\n",
    "caracteres"
   ]
  }
 ],
 "metadata": {
  "kernelspec": {
   "display_name": "Python 3 (ipykernel)",
   "language": "python",
   "name": "python3"
  },
  "language_info": {
   "codemirror_mode": {
    "name": "ipython",
    "version": 3
   },
   "file_extension": ".py",
   "mimetype": "text/x-python",
   "name": "python",
   "nbconvert_exporter": "python",
   "pygments_lexer": "ipython3",
   "version": "3.11.3"
  }
 },
 "nbformat": 4,
 "nbformat_minor": 5
}
